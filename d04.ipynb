# This is d04.py
import pandas as pd
data = pd.read_csv('https://raw.githubusercontent.com/justmarkham/pandas-videos/master/data/ufo.csv')
print(data.head())

