# This is d06.py
